{
 "cells": [
  {
   "cell_type": "markdown",
   "metadata": {
    "collapsed": true
   },
   "source": [
    "### Importing Libraries"
   ]
  },
  {
   "cell_type": "code",
   "execution_count": 1,
   "metadata": {},
   "outputs": [],
   "source": [
    "import pandas as pd\n",
    "import numpy as np"
   ]
  },
  {
   "cell_type": "code",
   "execution_count": 2,
   "metadata": {},
   "outputs": [],
   "source": [
    "# Activities are the class labels\n",
    "# It is a 6 class classification\n",
    "ACTIVITIES = {\n",
    "    0: 'WALKING',\n",
    "    1: 'WALKING_UPSTAIRS',\n",
    "    2: 'WALKING_DOWNSTAIRS',\n",
    "    3: 'SITTING',\n",
    "    4: 'STANDING',\n",
    "    5: 'LAYING',\n",
    "}\n",
    "\n",
    "# Utility function to print the confusion matrix\n",
    "def confusion_matrix(Y_true, Y_pred):\n",
    "    Y_true = pd.Series([ACTIVITIES[y] for y in np.argmax(Y_true, axis=1)])\n",
    "    Y_pred = pd.Series([ACTIVITIES[y] for y in np.argmax(Y_pred, axis=1)])\n",
    "\n",
    "    return pd.crosstab(Y_true, Y_pred, rownames=['True'], colnames=['Pred'])"
   ]
  },
  {
   "cell_type": "markdown",
   "metadata": {},
   "source": [
    "### Data"
   ]
  },
  {
   "cell_type": "code",
   "execution_count": 3,
   "metadata": {},
   "outputs": [],
   "source": [
    "# Data directory\n",
    "DATADIR = 'UCI_HAR_Dataset'"
   ]
  },
  {
   "cell_type": "code",
   "execution_count": 4,
   "metadata": {},
   "outputs": [],
   "source": [
    "# Raw data signals\n",
    "# Signals are from Accelerometer and Gyroscope\n",
    "# The signals are in x,y,z directions\n",
    "# Sensor signals are filtered to have only body acceleration\n",
    "# excluding the acceleration due to gravity\n",
    "# Triaxial acceleration from the accelerometer is total acceleration\n",
    "SIGNALS = [\n",
    "    \"body_acc_x\",\n",
    "    \"body_acc_y\",\n",
    "    \"body_acc_z\",\n",
    "    \"body_gyro_x\",\n",
    "    \"body_gyro_y\",\n",
    "    \"body_gyro_z\",\n",
    "    \"total_acc_x\",\n",
    "    \"total_acc_y\",\n",
    "    \"total_acc_z\"\n",
    "]"
   ]
  },
  {
   "cell_type": "code",
   "execution_count": 5,
   "metadata": {},
   "outputs": [],
   "source": [
    "# Utility function to read the data from csv file\n",
    "def _read_csv(filename):\n",
    "    return pd.read_csv(filename, delim_whitespace=True, header=None)\n",
    "\n",
    "# Utility function to load the load\n",
    "def load_signals(subset):\n",
    "    signals_data = []\n",
    "\n",
    "    for signal in SIGNALS:\n",
    "        filename = f'UCI_HAR_Dataset/{subset}/Inertial Signals/{signal}_{subset}.txt'\n",
    "        signals_data.append(\n",
    "           # _read_csv(filename).as_matrix()\n",
    "            _read_csv(filename).values\n",
    "        ) \n",
    "\n",
    "    # Transpose is used to change the dimensionality of the output,\n",
    "    # aggregating the signals by combination of sample/timestep.\n",
    "    # Resultant shape is (7352 train/2947 test samples, 128 timesteps, 9 signals)\n",
    "    \n",
    "    #print(signals_data)\n",
    "    #print((np.array(signals_data)).shape)\n",
    "    \n",
    "    return np.transpose(signals_data, (1, 2, 0))"
   ]
  },
  {
   "cell_type": "code",
   "execution_count": 6,
   "metadata": {},
   "outputs": [],
   "source": [
    "\n",
    "def load_y(subset):\n",
    "    \"\"\"\n",
    "    The objective that we are trying to predict is a integer, from 1 to 6,\n",
    "    that represents a human activity. We return a binary representation of \n",
    "    every sample objective as a 6 bits vector using One Hot Encoding\n",
    "    (https://pandas.pydata.org/pandas-docs/stable/generated/pandas.get_dummies.html)\n",
    "    \"\"\"\n",
    "    filename = f'UCI_HAR_Dataset/{subset}/y_{subset}.txt'\n",
    "    y = _read_csv(filename)[0]\n",
    "\n",
    "    return pd.get_dummies(y).values"
   ]
  },
  {
   "cell_type": "code",
   "execution_count": 7,
   "metadata": {},
   "outputs": [],
   "source": [
    "def load_data():\n",
    "    \"\"\"\n",
    "    Obtain the dataset from multiple files.\n",
    "    Returns: X_train, X_test, y_train, y_test\n",
    "    \"\"\"\n",
    "    X_train, X_test = load_signals('train'), load_signals('test')\n",
    "    y_train, y_test = load_y('train'), load_y('test')\n",
    "\n",
    "    return X_train, X_test, y_train, y_test"
   ]
  },
  {
   "cell_type": "code",
   "execution_count": 8,
   "metadata": {},
   "outputs": [
    {
     "name": "stderr",
     "output_type": "stream",
     "text": [
      "2022-07-20 16:12:16.655377: I tensorflow/core/util/util.cc:169] oneDNN custom operations are on. You may see slightly different numerical results due to floating-point round-off errors from different computation orders. To turn them off, set the environment variable `TF_ENABLE_ONEDNN_OPTS=0`.\n",
      "2022-07-20 16:12:16.659228: W tensorflow/stream_executor/platform/default/dso_loader.cc:64] Could not load dynamic library 'libcudart.so.11.0'; dlerror: libcudart.so.11.0: cannot open shared object file: No such file or directory\n",
      "2022-07-20 16:12:16.659245: I tensorflow/stream_executor/cuda/cudart_stub.cc:29] Ignore above cudart dlerror if you do not have a GPU set up on your machine.\n"
     ]
    }
   ],
   "source": [
    "# Importing tensorflow\n",
    "np.random.seed(42)\n",
    "import tensorflow as tf\n",
    "tf.random.set_seed(42)"
   ]
  },
  {
   "cell_type": "code",
   "execution_count": 9,
   "metadata": {},
   "outputs": [],
   "source": [
    "# Configuring a session\n",
    "session_conf = tf.compat.v1.ConfigProto(\n",
    "    intra_op_parallelism_threads=1,\n",
    "    inter_op_parallelism_threads=1\n",
    ")"
   ]
  },
  {
   "cell_type": "code",
   "execution_count": 10,
   "metadata": {},
   "outputs": [
    {
     "name": "stderr",
     "output_type": "stream",
     "text": [
      "2022-07-20 16:12:18.558911: I tensorflow/core/platform/cpu_feature_guard.cc:193] This TensorFlow binary is optimized with oneAPI Deep Neural Network Library (oneDNN) to use the following CPU instructions in performance-critical operations:  AVX2 AVX512F AVX512_VNNI FMA\n",
      "To enable them in other operations, rebuild TensorFlow with the appropriate compiler flags.\n",
      "2022-07-20 16:12:18.563356: E tensorflow/stream_executor/cuda/cuda_driver.cc:271] failed call to cuInit: CUDA_ERROR_UNKNOWN: unknown error\n",
      "2022-07-20 16:12:18.563399: I tensorflow/stream_executor/cuda/cuda_diagnostics.cc:156] kernel driver does not appear to be running on this host (ubuntu22): /proc/driver/nvidia/version does not exist\n"
     ]
    }
   ],
   "source": [
    "# Import Keras\n",
    "from keras import backend as K\n",
    "sess = tf.compat.v1.Session(graph=tf.compat.v1.get_default_graph(), config=session_conf)\n",
    "K.set_session(sess)"
   ]
  },
  {
   "cell_type": "code",
   "execution_count": 11,
   "metadata": {},
   "outputs": [],
   "source": [
    "# Importing libraries\n",
    "from keras.models import Sequential\n",
    "from keras.layers import LSTM\n",
    "from keras.layers.core import Dense, Dropout"
   ]
  },
  {
   "cell_type": "code",
   "execution_count": 12,
   "metadata": {},
   "outputs": [],
   "source": [
    "# Initializing parameters\n",
    "epochs = 30\n",
    "batch_size = 16\n",
    "n_hidden = 32"
   ]
  },
  {
   "cell_type": "code",
   "execution_count": 13,
   "metadata": {},
   "outputs": [],
   "source": [
    "# Utility function to count the number of classes\n",
    "def _count_classes(y):\n",
    "    return len(set([tuple(category) for category in y]))"
   ]
  },
  {
   "cell_type": "code",
   "execution_count": 14,
   "metadata": {},
   "outputs": [
    {
     "name": "stdout",
     "output_type": "stream",
     "text": [
      "(7352, 128, 9) (7352, 6)\n",
      "(2947, 128, 9) (2947, 6)\n"
     ]
    }
   ],
   "source": [
    "# Loading the train and test data\n",
    "X_train, X_test, Y_train, Y_test = load_data()\n",
    "print(X_train.shape, Y_train.shape)\n",
    "print(X_test.shape, Y_test.shape)"
   ]
  },
  {
   "cell_type": "code",
   "execution_count": 15,
   "metadata": {},
   "outputs": [
    {
     "name": "stdout",
     "output_type": "stream",
     "text": [
      "128\n",
      "9\n",
      "7352\n",
      "6\n"
     ]
    }
   ],
   "source": [
    "timesteps = len(X_train[0])\n",
    "input_dim = len(X_train[0][0])\n",
    "n_classes = _count_classes(Y_train)\n",
    "\n",
    "print(timesteps)\n",
    "print(input_dim)\n",
    "print(len(X_train))\n",
    "print(n_classes)"
   ]
  },
  {
   "cell_type": "markdown",
   "metadata": {},
   "source": [
    "- Defining the Architecture of LSTM"
   ]
  },
  {
   "cell_type": "code",
   "execution_count": 16,
   "metadata": {},
   "outputs": [
    {
     "name": "stdout",
     "output_type": "stream",
     "text": [
      "Model: \"sequential\"\n",
      "_________________________________________________________________\n",
      " Layer (type)                Output Shape              Param #   \n",
      "=================================================================\n",
      " lstm (LSTM)                 (None, 32)                5376      \n",
      "                                                                 \n",
      " dropout (Dropout)           (None, 32)                0         \n",
      "                                                                 \n",
      " dense (Dense)               (None, 6)                 198       \n",
      "                                                                 \n",
      "=================================================================\n",
      "Total params: 5,574\n",
      "Trainable params: 5,574\n",
      "Non-trainable params: 0\n",
      "_________________________________________________________________\n"
     ]
    }
   ],
   "source": [
    "# Initiliazing the sequential model\n",
    "model = Sequential()\n",
    "# Configuring the parameters\n",
    "model.add(LSTM(n_hidden, input_shape=(timesteps, input_dim)))\n",
    "# Adding a dropout layer\n",
    "model.add(Dropout(0.5))\n",
    "# Adding a dense output layer with sigmoid activation\n",
    "model.add(Dense(n_classes, activation='sigmoid'))\n",
    "model.summary()\n",
    "\n",
    "# Param= 4(nm+n^2+n)\n",
    "# n=output=32, m=input=9\n",
    "# Param= 4(32*9 + 32^2 + 32)= 5376"
   ]
  },
  {
   "cell_type": "code",
   "execution_count": 17,
   "metadata": {},
   "outputs": [],
   "source": [
    "# Compiling the model\n",
    "model.compile(loss='categorical_crossentropy',\n",
    "              optimizer='adam',\n",
    "              metrics=['accuracy'])"
   ]
  },
  {
   "cell_type": "code",
   "execution_count": 18,
   "metadata": {},
   "outputs": [
    {
     "name": "stdout",
     "output_type": "stream",
     "text": [
      "Epoch 1/30\n",
      "460/460 [==============================] - 13s 25ms/step - loss: 1.2332 - accuracy: 0.4804 - val_loss: 1.2695 - val_accuracy: 0.4652\n",
      "Epoch 2/30\n",
      "460/460 [==============================] - 11s 24ms/step - loss: 0.8654 - accuracy: 0.6163 - val_loss: 0.7826 - val_accuracy: 0.6725\n",
      "Epoch 3/30\n",
      "460/460 [==============================] - 11s 25ms/step - loss: 0.6924 - accuracy: 0.6938 - val_loss: 0.7038 - val_accuracy: 0.7350\n",
      "Epoch 4/30\n",
      "460/460 [==============================] - 11s 24ms/step - loss: 0.6341 - accuracy: 0.7510 - val_loss: 0.5762 - val_accuracy: 0.8212\n",
      "Epoch 5/30\n",
      "460/460 [==============================] - 11s 24ms/step - loss: 0.5236 - accuracy: 0.8232 - val_loss: 0.5988 - val_accuracy: 0.7492\n",
      "Epoch 6/30\n",
      "460/460 [==============================] - 11s 23ms/step - loss: 0.7533 - accuracy: 0.6809 - val_loss: 0.7494 - val_accuracy: 0.6905\n",
      "Epoch 7/30\n",
      "460/460 [==============================] - 11s 23ms/step - loss: 0.6020 - accuracy: 0.7401 - val_loss: 0.6185 - val_accuracy: 0.7618\n",
      "Epoch 8/30\n",
      "460/460 [==============================] - 11s 25ms/step - loss: 0.5227 - accuracy: 0.7821 - val_loss: 0.5651 - val_accuracy: 0.7784\n",
      "Epoch 9/30\n",
      "460/460 [==============================] - 13s 29ms/step - loss: 0.5579 - accuracy: 0.7715 - val_loss: 0.6993 - val_accuracy: 0.7282\n",
      "Epoch 10/30\n",
      "460/460 [==============================] - 13s 29ms/step - loss: 0.6069 - accuracy: 0.7613 - val_loss: 0.8178 - val_accuracy: 0.6274\n",
      "Epoch 11/30\n",
      "460/460 [==============================] - 13s 29ms/step - loss: 0.7269 - accuracy: 0.6529 - val_loss: 0.7622 - val_accuracy: 0.6617\n",
      "Epoch 12/30\n",
      "460/460 [==============================] - 13s 29ms/step - loss: 0.6783 - accuracy: 0.6746 - val_loss: 0.7734 - val_accuracy: 0.6410\n",
      "Epoch 13/30\n",
      "460/460 [==============================] - 13s 29ms/step - loss: 0.6698 - accuracy: 0.6897 - val_loss: 0.7951 - val_accuracy: 0.6610\n",
      "Epoch 14/30\n",
      "460/460 [==============================] - 13s 29ms/step - loss: 0.6056 - accuracy: 0.7220 - val_loss: 0.6979 - val_accuracy: 0.7533\n",
      "Epoch 15/30\n",
      "460/460 [==============================] - 13s 29ms/step - loss: 0.4828 - accuracy: 0.7961 - val_loss: 0.6441 - val_accuracy: 0.7808\n",
      "Epoch 16/30\n",
      "460/460 [==============================] - 14s 30ms/step - loss: 0.4840 - accuracy: 0.8108 - val_loss: 0.7268 - val_accuracy: 0.6970\n",
      "Epoch 17/30\n",
      "460/460 [==============================] - 12s 26ms/step - loss: 0.5623 - accuracy: 0.7674 - val_loss: 0.5611 - val_accuracy: 0.7995\n",
      "Epoch 18/30\n",
      "460/460 [==============================] - 11s 24ms/step - loss: 0.4026 - accuracy: 0.8565 - val_loss: 0.4181 - val_accuracy: 0.8602\n",
      "Epoch 19/30\n",
      "460/460 [==============================] - 12s 26ms/step - loss: 0.2954 - accuracy: 0.9056 - val_loss: 0.3742 - val_accuracy: 0.8741\n",
      "Epoch 20/30\n",
      "460/460 [==============================] - 14s 30ms/step - loss: 0.2511 - accuracy: 0.9219 - val_loss: 0.4202 - val_accuracy: 0.8755\n",
      "Epoch 21/30\n",
      "460/460 [==============================] - 14s 31ms/step - loss: 0.3576 - accuracy: 0.8789 - val_loss: 0.3626 - val_accuracy: 0.8880\n",
      "Epoch 22/30\n",
      "460/460 [==============================] - 14s 30ms/step - loss: 0.2330 - accuracy: 0.9278 - val_loss: 0.3769 - val_accuracy: 0.8901\n",
      "Epoch 23/30\n",
      "460/460 [==============================] - 13s 27ms/step - loss: 0.2432 - accuracy: 0.9210 - val_loss: 0.3328 - val_accuracy: 0.8778\n",
      "Epoch 24/30\n",
      "460/460 [==============================] - 11s 24ms/step - loss: 0.2186 - accuracy: 0.9260 - val_loss: 0.3367 - val_accuracy: 0.8965\n",
      "Epoch 25/30\n",
      "460/460 [==============================] - 11s 24ms/step - loss: 0.1753 - accuracy: 0.9427 - val_loss: 0.3076 - val_accuracy: 0.8901\n",
      "Epoch 26/30\n",
      "460/460 [==============================] - 11s 25ms/step - loss: 0.1769 - accuracy: 0.9407 - val_loss: 0.2741 - val_accuracy: 0.8965\n",
      "Epoch 27/30\n",
      "460/460 [==============================] - 11s 24ms/step - loss: 0.1972 - accuracy: 0.9368 - val_loss: 0.3567 - val_accuracy: 0.8761\n",
      "Epoch 28/30\n",
      "460/460 [==============================] - 11s 24ms/step - loss: 0.1949 - accuracy: 0.9399 - val_loss: 0.2853 - val_accuracy: 0.8972\n",
      "Epoch 29/30\n",
      "460/460 [==============================] - 11s 24ms/step - loss: 0.2225 - accuracy: 0.9180 - val_loss: 0.4897 - val_accuracy: 0.8066\n",
      "Epoch 30/30\n",
      "460/460 [==============================] - 11s 24ms/step - loss: 0.2124 - accuracy: 0.9238 - val_loss: 0.2704 - val_accuracy: 0.9077\n"
     ]
    },
    {
     "data": {
      "text/plain": [
       "<keras.callbacks.History at 0x7fde9a77b6d0>"
      ]
     },
     "execution_count": 18,
     "metadata": {},
     "output_type": "execute_result"
    }
   ],
   "source": [
    "# Training the model\n",
    "model.fit(X_train,\n",
    "          Y_train,\n",
    "          batch_size=batch_size,\n",
    "          validation_data=(X_test, Y_test),\n",
    "          epochs=epochs)"
   ]
  },
  {
   "cell_type": "code",
   "execution_count": 19,
   "metadata": {},
   "outputs": [
    {
     "name": "stdout",
     "output_type": "stream",
     "text": [
      "93/93 [==============================] - 1s 7ms/step\n",
      "Pred                LAYING  SITTING  STANDING  WALKING  WALKING_DOWNSTAIRS  \\\n",
      "True                                                                         \n",
      "LAYING                 510        0         0        0                   0   \n",
      "SITTING                  1      409        80        0                   0   \n",
      "STANDING                 0       85       445        2                   0   \n",
      "WALKING                  0        3         0      469                   2   \n",
      "WALKING_DOWNSTAIRS       0        0         0        3                 412   \n",
      "WALKING_UPSTAIRS         1        0         2       36                   2   \n",
      "\n",
      "Pred                WALKING_UPSTAIRS  \n",
      "True                                  \n",
      "LAYING                            27  \n",
      "SITTING                            1  \n",
      "STANDING                           0  \n",
      "WALKING                           22  \n",
      "WALKING_DOWNSTAIRS                 5  \n",
      "WALKING_UPSTAIRS                 430  \n"
     ]
    }
   ],
   "source": [
    "# Confusion Matrix\n",
    "print(confusion_matrix(Y_test, model.predict(X_test)))"
   ]
  },
  {
   "cell_type": "code",
   "execution_count": 20,
   "metadata": {},
   "outputs": [
    {
     "name": "stdout",
     "output_type": "stream",
     "text": [
      "93/93 [==============================] - 1s 7ms/step - loss: 0.2704 - accuracy: 0.9077\n"
     ]
    }
   ],
   "source": [
    "score = model.evaluate(X_test, Y_test)"
   ]
  },
  {
   "cell_type": "code",
   "execution_count": 21,
   "metadata": {},
   "outputs": [
    {
     "data": {
      "text/plain": [
       "[0.2703595757484436, 0.9077027440071106]"
      ]
     },
     "execution_count": 21,
     "metadata": {},
     "output_type": "execute_result"
    }
   ],
   "source": [
    "score"
   ]
  },
  {
   "cell_type": "markdown",
   "metadata": {},
   "source": [
    "> With a simple 2 layer architecture we got around 90% accuracy and a loss of 0.27"
   ]
  }
 ],
 "metadata": {
  "kernelspec": {
   "display_name": "Python 3 (ipykernel)",
   "language": "python",
   "name": "python3"
  },
  "language_info": {
   "codemirror_mode": {
    "name": "ipython",
    "version": 3
   },
   "file_extension": ".py",
   "mimetype": "text/x-python",
   "name": "python",
   "nbconvert_exporter": "python",
   "pygments_lexer": "ipython3",
   "version": "3.10.4"
  }
 },
 "nbformat": 4,
 "nbformat_minor": 2
}
